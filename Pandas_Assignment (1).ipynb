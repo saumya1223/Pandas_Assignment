{
 "cells": [
  {
   "cell_type": "markdown",
   "id": "819aae3f-999b-4be1-9d68-9acdd2a24c18",
   "metadata": {},
   "source": [
    "# PART 1 Netflix Movies and TV Shows"
   ]
  },
  {
   "cell_type": "code",
   "execution_count": 42,
   "id": "e930f875-fc7b-466e-93db-dc7d988401b6",
   "metadata": {},
   "outputs": [],
   "source": [
    "import pandas as pd\n",
    "\n",
    "df = pd.read_csv(\"netflix_titles.csv\")\n"
   ]
  },
  {
   "cell_type": "code",
   "execution_count": 3,
   "id": "a911ece4-9a85-4b51-b5f2-bc86565babec",
   "metadata": {},
   "outputs": [
    {
     "name": "stdout",
     "output_type": "stream",
     "text": [
      "  show_id     type                  title         director  \\\n",
      "0      s1    Movie   Dick Johnson Is Dead  Kirsten Johnson   \n",
      "1      s2  TV Show          Blood & Water              NaN   \n",
      "2      s3  TV Show              Ganglands  Julien Leclercq   \n",
      "3      s4  TV Show  Jailbirds New Orleans              NaN   \n",
      "4      s5  TV Show           Kota Factory              NaN   \n",
      "\n",
      "                                                cast        country  \\\n",
      "0                                                NaN  United States   \n",
      "1  Ama Qamata, Khosi Ngema, Gail Mabalane, Thaban...   South Africa   \n",
      "2  Sami Bouajila, Tracy Gotoas, Samuel Jouy, Nabi...            NaN   \n",
      "3                                                NaN            NaN   \n",
      "4  Mayur More, Jitendra Kumar, Ranjan Raj, Alam K...          India   \n",
      "\n",
      "           date_added  release_year rating   duration  \\\n",
      "0  September 25, 2021          2020  PG-13     90 min   \n",
      "1  September 24, 2021          2021  TV-MA  2 Seasons   \n",
      "2  September 24, 2021          2021  TV-MA   1 Season   \n",
      "3  September 24, 2021          2021  TV-MA   1 Season   \n",
      "4  September 24, 2021          2021  TV-MA  2 Seasons   \n",
      "\n",
      "                                           listed_in  \\\n",
      "0                                      Documentaries   \n",
      "1    International TV Shows, TV Dramas, TV Mysteries   \n",
      "2  Crime TV Shows, International TV Shows, TV Act...   \n",
      "3                             Docuseries, Reality TV   \n",
      "4  International TV Shows, Romantic TV Shows, TV ...   \n",
      "\n",
      "                                         description  \n",
      "0  As her father nears the end of his life, filmm...  \n",
      "1  After crossing paths at a party, a Cape Town t...  \n",
      "2  To protect his family from a powerful drug lor...  \n",
      "3  Feuds, flirtations and toilet talk go down amo...  \n",
      "4  In a city of coaching centers known to train I...  \n"
     ]
    }
   ],
   "source": [
    "print(df.head())     # First 5 rows\n",
    "\n"
   ]
  },
  {
   "cell_type": "code",
   "execution_count": 4,
   "id": "8bf04062-d0f3-4c31-9b91-e45cbed780a0",
   "metadata": {},
   "outputs": [
    {
     "name": "stdout",
     "output_type": "stream",
     "text": [
      "     show_id     type        title         director  \\\n",
      "8802   s8803    Movie       Zodiac    David Fincher   \n",
      "8803   s8804  TV Show  Zombie Dumb              NaN   \n",
      "8804   s8805    Movie   Zombieland  Ruben Fleischer   \n",
      "8805   s8806    Movie         Zoom     Peter Hewitt   \n",
      "8806   s8807    Movie       Zubaan      Mozez Singh   \n",
      "\n",
      "                                                   cast        country  \\\n",
      "8802  Mark Ruffalo, Jake Gyllenhaal, Robert Downey J...  United States   \n",
      "8803                                                NaN            NaN   \n",
      "8804  Jesse Eisenberg, Woody Harrelson, Emma Stone, ...  United States   \n",
      "8805  Tim Allen, Courteney Cox, Chevy Chase, Kate Ma...  United States   \n",
      "8806  Vicky Kaushal, Sarah-Jane Dias, Raaghav Chanan...          India   \n",
      "\n",
      "             date_added  release_year rating   duration  \\\n",
      "8802  November 20, 2019          2007      R    158 min   \n",
      "8803       July 1, 2019          2018  TV-Y7  2 Seasons   \n",
      "8804   November 1, 2019          2009      R     88 min   \n",
      "8805   January 11, 2020          2006     PG     88 min   \n",
      "8806      March 2, 2019          2015  TV-14    111 min   \n",
      "\n",
      "                                           listed_in  \\\n",
      "8802                  Cult Movies, Dramas, Thrillers   \n",
      "8803          Kids' TV, Korean TV Shows, TV Comedies   \n",
      "8804                         Comedies, Horror Movies   \n",
      "8805              Children & Family Movies, Comedies   \n",
      "8806  Dramas, International Movies, Music & Musicals   \n",
      "\n",
      "                                            description  \n",
      "8802  A political cartoonist, a crime reporter and a...  \n",
      "8803  While living alone in a spooky town, a young g...  \n",
      "8804  Looking to survive in a world taken over by zo...  \n",
      "8805  Dragged from civilian life, a former superhero...  \n",
      "8806  A scrappy but poor boy worms his way into a ty...  \n"
     ]
    }
   ],
   "source": [
    "print(df.tail())     # Last 5 rows"
   ]
  },
  {
   "cell_type": "code",
   "execution_count": 5,
   "id": "49dbabcb-156b-4584-a021-5e9701511c68",
   "metadata": {},
   "outputs": [
    {
     "name": "stdout",
     "output_type": "stream",
     "text": [
      "Shape of dataset: (8807, 12)\n"
     ]
    }
   ],
   "source": [
    "print(\"Shape of dataset:\", df.shape)  # (rows, columns)\n"
   ]
  },
  {
   "cell_type": "code",
   "execution_count": 6,
   "id": "e1a856f4-f2b1-40a6-9522-aeb54a833494",
   "metadata": {},
   "outputs": [
    {
     "name": "stdout",
     "output_type": "stream",
     "text": [
      "Number of unique countries: 748\n"
     ]
    }
   ],
   "source": [
    "unique_countries = df['country'].dropna().unique()\n",
    "print(\"Number of unique countries:\", len(unique_countries))\n"
   ]
  },
  {
   "cell_type": "code",
   "execution_count": 7,
   "id": "c83f3e22-fb28-40b4-9218-5c293b1c6860",
   "metadata": {},
   "outputs": [
    {
     "name": "stdout",
     "output_type": "stream",
     "text": [
      "     show_id     type                  title         director  \\\n",
      "1         s2  TV Show          Blood & Water              NaN   \n",
      "2         s3  TV Show              Ganglands  Julien Leclercq   \n",
      "3         s4  TV Show  Jailbirds New Orleans              NaN   \n",
      "4         s5  TV Show           Kota Factory              NaN   \n",
      "5         s6  TV Show          Midnight Mass    Mike Flanagan   \n",
      "...      ...      ...                    ...              ...   \n",
      "8795   s8796  TV Show        Yu-Gi-Oh! Arc-V              NaN   \n",
      "8796   s8797  TV Show             Yunus Emre              NaN   \n",
      "8797   s8798  TV Show              Zak Storm              NaN   \n",
      "8800   s8801  TV Show     Zindagi Gulzar Hai              NaN   \n",
      "8803   s8804  TV Show            Zombie Dumb              NaN   \n",
      "\n",
      "                                                   cast  \\\n",
      "1     Ama Qamata, Khosi Ngema, Gail Mabalane, Thaban...   \n",
      "2     Sami Bouajila, Tracy Gotoas, Samuel Jouy, Nabi...   \n",
      "3                                                   NaN   \n",
      "4     Mayur More, Jitendra Kumar, Ranjan Raj, Alam K...   \n",
      "5     Kate Siegel, Zach Gilford, Hamish Linklater, H...   \n",
      "...                                                 ...   \n",
      "8795  Mike Liscio, Emily Bauer, Billy Bob Thompson, ...   \n",
      "8796  Gökhan Atalay, Payidar Tüfekçioglu, Baran Akbu...   \n",
      "8797  Michael Johnston, Jessica Gee-George, Christin...   \n",
      "8800  Sanam Saeed, Fawad Khan, Ayesha Omer, Mehreen ...   \n",
      "8803                                                NaN   \n",
      "\n",
      "                                            country          date_added  \\\n",
      "1                                      South Africa  September 24, 2021   \n",
      "2                                               NaN  September 24, 2021   \n",
      "3                                               NaN  September 24, 2021   \n",
      "4                                             India  September 24, 2021   \n",
      "5                                               NaN  September 24, 2021   \n",
      "...                                             ...                 ...   \n",
      "8795                                  Japan, Canada         May 1, 2018   \n",
      "8796                                         Turkey    January 17, 2017   \n",
      "8797  United States, France, South Korea, Indonesia  September 13, 2018   \n",
      "8800                                       Pakistan   December 15, 2016   \n",
      "8803                                            NaN        July 1, 2019   \n",
      "\n",
      "      release_year rating   duration  \\\n",
      "1             2021  TV-MA  2 Seasons   \n",
      "2             2021  TV-MA   1 Season   \n",
      "3             2021  TV-MA   1 Season   \n",
      "4             2021  TV-MA  2 Seasons   \n",
      "5             2021  TV-MA   1 Season   \n",
      "...            ...    ...        ...   \n",
      "8795          2015  TV-Y7  2 Seasons   \n",
      "8796          2016  TV-PG  2 Seasons   \n",
      "8797          2016  TV-Y7  3 Seasons   \n",
      "8800          2012  TV-PG   1 Season   \n",
      "8803          2018  TV-Y7  2 Seasons   \n",
      "\n",
      "                                              listed_in  \\\n",
      "1       International TV Shows, TV Dramas, TV Mysteries   \n",
      "2     Crime TV Shows, International TV Shows, TV Act...   \n",
      "3                                Docuseries, Reality TV   \n",
      "4     International TV Shows, Romantic TV Shows, TV ...   \n",
      "5                    TV Dramas, TV Horror, TV Mysteries   \n",
      "...                                                 ...   \n",
      "8795                             Anime Series, Kids' TV   \n",
      "8796                  International TV Shows, TV Dramas   \n",
      "8797                                           Kids' TV   \n",
      "8800  International TV Shows, Romantic TV Shows, TV ...   \n",
      "8803             Kids' TV, Korean TV Shows, TV Comedies   \n",
      "\n",
      "                                            description  \n",
      "1     After crossing paths at a party, a Cape Town t...  \n",
      "2     To protect his family from a powerful drug lor...  \n",
      "3     Feuds, flirtations and toilet talk go down amo...  \n",
      "4     In a city of coaching centers known to train I...  \n",
      "5     The arrival of a charismatic young priest brin...  \n",
      "...                                                 ...  \n",
      "8795  Now that he's discovered the Pendulum Summonin...  \n",
      "8796  During the Mongol invasions, Yunus Emre leaves...  \n",
      "8797  Teen surfer Zak Storm is mysteriously transpor...  \n",
      "8800  Strong-willed, middle-class Kashaf and carefre...  \n",
      "8803  While living alone in a spooky town, a young g...  \n",
      "\n",
      "[2676 rows x 12 columns]\n"
     ]
    }
   ],
   "source": [
    "tv_shows = df[df['type'] == 'TV Show']\n",
    "print(tv_shows)\n"
   ]
  },
  {
   "cell_type": "code",
   "execution_count": 8,
   "id": "fc43dfe4-3ec6-4974-873e-ed802fb562e8",
   "metadata": {},
   "outputs": [
    {
     "name": "stdout",
     "output_type": "stream",
     "text": [
      "  date_added  year_added  month_added\n",
      "0 2021-09-25      2021.0          9.0\n",
      "1 2021-09-24      2021.0          9.0\n",
      "2 2021-09-24      2021.0          9.0\n",
      "3 2021-09-24      2021.0          9.0\n",
      "4 2021-09-24      2021.0          9.0\n"
     ]
    }
   ],
   "source": [
    "df['date_added'] = pd.to_datetime(df['date_added'], errors='coerce')\n",
    "df['year_added'] = df['date_added'].dt.year\n",
    "df['month_added'] = df['date_added'].dt.month\n",
    "\n",
    "print(df[['date_added', 'year_added', 'month_added']].head())\n"
   ]
  },
  {
   "cell_type": "code",
   "execution_count": 9,
   "id": "a0d4f8bc-15d6-487e-857c-60a7017986c6",
   "metadata": {},
   "outputs": [
    {
     "name": "stdout",
     "output_type": "stream",
     "text": [
      "Movies released in 2019: 633\n"
     ]
    }
   ],
   "source": [
    "movies_2019 = df[(df['type'] == 'Movie') & (df['release_year'] == 2019)]\n",
    "print(\"Movies released in 2019:\", len(movies_2019))\n"
   ]
  },
  {
   "cell_type": "code",
   "execution_count": 10,
   "id": "93bcad37-3a3c-4324-859b-5378c047a431",
   "metadata": {},
   "outputs": [
    {
     "name": "stdout",
     "output_type": "stream",
     "text": [
      "rating\n",
      "TV-MA       3207\n",
      "TV-14       2160\n",
      "TV-PG        863\n",
      "R            799\n",
      "PG-13        490\n",
      "TV-Y7        334\n",
      "TV-Y         307\n",
      "PG           287\n",
      "TV-G         220\n",
      "NR            80\n",
      "G             41\n",
      "TV-Y7-FV       6\n",
      "NC-17          3\n",
      "UR             3\n",
      "74 min         1\n",
      "84 min         1\n",
      "66 min         1\n",
      "Name: count, dtype: int64\n"
     ]
    }
   ],
   "source": [
    "# 8. Group by rating and show the count of each category\n",
    "rating_counts = df['rating'].value_counts()\n",
    "print(rating_counts)\n"
   ]
  },
  {
   "cell_type": "code",
   "execution_count": null,
   "id": "651f3e61-7dfa-433f-a0d4-e4bced3f4444",
   "metadata": {},
   "outputs": [],
   "source": []
  },
  {
   "cell_type": "markdown",
   "id": "97d3378b-e054-427f-b599-9fecebc90825",
   "metadata": {},
   "source": [
    "# PART2 World Population Dataset"
   ]
  },
  {
   "cell_type": "code",
   "execution_count": 12,
   "id": "7ce9c0d6-31d6-4a02-88a4-0de8ee1b54d9",
   "metadata": {},
   "outputs": [
    {
     "name": "stdout",
     "output_type": "stream",
     "text": [
      "   Rank CCA3    Country/Territory           Capital      Continent  \\\n",
      "0    36  AFG          Afghanistan             Kabul           Asia   \n",
      "1   138  ALB              Albania            Tirana         Europe   \n",
      "2    34  DZA              Algeria           Algiers         Africa   \n",
      "3   213  ASM       American Samoa         Pago Pago        Oceania   \n",
      "4   203  AND              Andorra  Andorra la Vella         Europe   \n",
      "5    42  AGO               Angola            Luanda         Africa   \n",
      "6   224  AIA             Anguilla        The Valley  North America   \n",
      "7   201  ATG  Antigua and Barbuda      Saint John’s  North America   \n",
      "8    33  ARG            Argentina      Buenos Aires  South America   \n",
      "9   140  ARM              Armenia           Yerevan           Asia   \n",
      "\n",
      "   2022 Population  2020 Population  2015 Population  2010 Population  \\\n",
      "0         41128771         38972230         33753499         28189672   \n",
      "1          2842321          2866849          2882481          2913399   \n",
      "2         44903225         43451666         39543154         35856344   \n",
      "3            44273            46189            51368            54849   \n",
      "4            79824            77700            71746            71519   \n",
      "5         35588987         33428485         28127721         23364185   \n",
      "6            15857            15585            14525            13172   \n",
      "7            93763            92664            89941            85695   \n",
      "8         45510318         45036032         43257065         41100123   \n",
      "9          2780469          2805608          2878595          2946293   \n",
      "\n",
      "   2000 Population  1990 Population  1980 Population  1970 Population  \\\n",
      "0         19542982         10694796         12486631         10752971   \n",
      "1          3182021          3295066          2941651          2324731   \n",
      "2         30774621         25518074         18739378         13795915   \n",
      "3            58230            47818            32886            27075   \n",
      "4            66097            53569            35611            19860   \n",
      "5         16394062         11828638          8330047          6029700   \n",
      "6            11047             8316             6560             6283   \n",
      "7            75055            63328            64888            64516   \n",
      "8         37070774         32637657         28024803         23842803   \n",
      "9          3168523          3556539          3135123          2534377   \n",
      "\n",
      "   Area (km²)  Density (per km²)  Growth Rate  World Population Percentage  \n",
      "0      652230            63.0587       1.0257                         0.52  \n",
      "1       28748            98.8702       0.9957                         0.04  \n",
      "2     2381741            18.8531       1.0164                         0.56  \n",
      "3         199           222.4774       0.9831                         0.00  \n",
      "4         468           170.5641       1.0100                         0.00  \n",
      "5     1246700            28.5466       1.0315                         0.45  \n",
      "6          91           174.2527       1.0066                         0.00  \n",
      "7         442           212.1335       1.0058                         0.00  \n",
      "8     2780400            16.3683       1.0052                         0.57  \n",
      "9       29743            93.4831       0.9962                         0.03  \n"
     ]
    }
   ],
   "source": [
    "import pandas as pd\n",
    "\n",
    "# Load and display the top 10 rows.\n",
    "df2 = pd.read_csv(\"world_population.csv\")\n",
    "print(df2.head(10))\n"
   ]
  },
  {
   "cell_type": "code",
   "execution_count": 13,
   "id": "d93a049a-5426-4baa-98b9-7843c9e15b84",
   "metadata": {},
   "outputs": [
    {
     "name": "stdout",
     "output_type": "stream",
     "text": [
      "Rank                           0\n",
      "CCA3                           0\n",
      "Country/Territory              0\n",
      "Capital                        0\n",
      "Continent                      0\n",
      "2022 Population                0\n",
      "2020 Population                0\n",
      "2015 Population                0\n",
      "2010 Population                0\n",
      "2000 Population                0\n",
      "1990 Population                0\n",
      "1980 Population                0\n",
      "1970 Population                0\n",
      "Area (km²)                     0\n",
      "Density (per km²)              0\n",
      "Growth Rate                    0\n",
      "World Population Percentage    0\n",
      "dtype: int64\n"
     ]
    }
   ],
   "source": [
    "# Check for null values and handle them appropriately\n",
    "print(df2.isnull().sum())\n",
    "\n",
    "df2.dropna(inplace=True)\n",
    "\n",
    "\n"
   ]
  },
  {
   "cell_type": "code",
   "execution_count": 14,
   "id": "b7496648-2b6b-4f6a-8f5d-16c39c0a9ab7",
   "metadata": {},
   "outputs": [
    {
     "name": "stdout",
     "output_type": "stream",
     "text": [
      "['Rank', 'CCA3', 'Country/Territory', 'Capital', 'Continent', '2022 Population', '2020 Population', '2015 Population', '2010 Population', '2000 Population', '1990 Population', '1980 Population', '1970 Population', 'Area (km²)', 'Density (per km²)', 'Growth Rate', 'World Population Percentage']\n"
     ]
    }
   ],
   "source": [
    "print(df2.columns.tolist())\n"
   ]
  },
  {
   "cell_type": "code",
   "execution_count": 15,
   "id": "cab0db92-603f-4143-9492-dd0124652188",
   "metadata": {
    "scrolled": true
   },
   "outputs": [
    {
     "name": "stdout",
     "output_type": "stream",
     "text": [
      "    Country/Territory  2022 Population\n",
      "41              China     1.425887e+09\n",
      "92              India     1.417173e+09\n",
      "221     United States     3.382899e+08\n",
      "93          Indonesia     2.755013e+08\n",
      "156          Pakistan     2.358249e+08\n"
     ]
    }
   ],
   "source": [
    "# What is the population of the top 5 most populous countries?\n",
    "df2['2022 Population'] = df2['2022 Population'].replace(',', '', regex=True).astype(float)\n",
    "\n",
    "df2['Area (km²)'] = df2['Area (km²)'].replace(',', '', regex=True).astype(float)\n",
    "\n",
    "# Top 5 most populous countries\n",
    "top_5 = df2.sort_values(by='2022 Population', ascending=False).head(5)\n",
    "print(top_5[['Country/Territory', '2022 Population']])\n"
   ]
  },
  {
   "cell_type": "code",
   "execution_count": 16,
   "id": "aa4d7525-98ad-428b-bcb0-5bce97c97567",
   "metadata": {},
   "outputs": [
    {
     "name": "stdout",
     "output_type": "stream",
     "text": [
      "  Country/Territory  2022 Population           GDP  GDP_per_capita\n",
      "0       Afghanistan       41128771.0  7.553348e+12    1.836512e+05\n",
      "1           Albania        2842321.0  1.901921e+13    6.691438e+06\n",
      "2           Algeria       44903225.0  1.466668e+13    3.266286e+05\n",
      "3    American Samoa          44273.0  1.201330e+13    2.713461e+08\n",
      "4           Andorra          79824.0  3.204771e+12    4.014796e+07\n"
     ]
    }
   ],
   "source": [
    "# Create a new column showing GDP per capita ( GDP / Population ).\n",
    "import numpy as np\n",
    "np.random.seed(42)\n",
    "df2['GDP'] = np.random.uniform(1e11, 2e13, size=len(df2))\n",
    "\n",
    "df2['GDP_per_capita'] = df2['GDP'] / df2['2022 Population']\n",
    "print(df2[['Country/Territory', '2022 Population', 'GDP', 'GDP_per_capita']].head())\n"
   ]
  },
  {
   "cell_type": "code",
   "execution_count": 17,
   "id": "4229aa2b-aa75-4653-8d30-93cc8365e9cd",
   "metadata": {},
   "outputs": [
    {
     "name": "stdout",
     "output_type": "stream",
     "text": [
      "\n",
      " Countries with Population > 100M and Area < 500,000 km²:\n",
      "    Country/Territory  2022 Population  Area (km²)\n",
      "16         Bangladesh      171186372.0    147570.0\n",
      "102             Japan      123951692.0    377930.0\n",
      "163       Philippines      115559009.0    342353.0\n"
     ]
    }
   ],
   "source": [
    "# Filter out countries with population > 100 million and area < 500,000 sq km.\n",
    "filtered = df2[(df2['2022 Population'] > 100_000_000) & (df2['Area (km²)'] < 500_000)]\n",
    "print(\"\\n Countries with Population > 100M and Area < 500,000 km²:\")\n",
    "print(filtered[['Country/Territory', '2022 Population', 'Area (km²)']])"
   ]
  },
  {
   "cell_type": "code",
   "execution_count": 18,
   "id": "20efb064-bd4d-4b8c-9ab0-1697bb2143a3",
   "metadata": {},
   "outputs": [
    {
     "name": "stdout",
     "output_type": "stream",
     "text": [
      "\n",
      "🔹 Top 10 Countries by Population Density:\n",
      "    Country/Territory  2022 Population  Density (per km²)\n",
      "119             Macau         695168.0         23172.2667\n",
      "134            Monaco          36469.0         18234.5000\n",
      "187         Singapore        5975689.0          8416.4634\n",
      "89          Hong Kong        7488865.0          6783.3922\n",
      "76          Gibraltar          32649.0          5441.5000\n",
      "15            Bahrain        1472233.0          1924.4876\n",
      "123          Maldives         523787.0          1745.9567\n",
      "125             Malta         533286.0          1687.6139\n",
      "188      Sint Maarten          44175.0          1299.2647\n",
      "22            Bermuda          64184.0          1188.5926\n"
     ]
    }
   ],
   "source": [
    "# Sort countries by density (descending)\n",
    "sorted_density = df2.sort_values(by='Density (per km²)', ascending=False)\n",
    "print(\"\\n🔹 Top 10 Countries by Population Density:\")\n",
    "print(sorted_density[['Country/Territory', '2022 Population', 'Density (per km²)']].head(10))"
   ]
  },
  {
   "cell_type": "code",
   "execution_count": null,
   "id": "b517008c-a7cc-4e9f-b23c-00243d3e8ce9",
   "metadata": {},
   "outputs": [],
   "source": []
  },
  {
   "cell_type": "markdown",
   "id": "42ba1691-5fb2-4748-835d-6aa821110d9d",
   "metadata": {},
   "source": [
    "# PART 3 IPL DATASET"
   ]
  },
  {
   "cell_type": "code",
   "execution_count": 34,
   "id": "30e13c14-535d-4455-85ad-2170f1110808",
   "metadata": {},
   "outputs": [
    {
     "data": {
      "text/html": [
       "<div>\n",
       "<style scoped>\n",
       "    .dataframe tbody tr th:only-of-type {\n",
       "        vertical-align: middle;\n",
       "    }\n",
       "\n",
       "    .dataframe tbody tr th {\n",
       "        vertical-align: top;\n",
       "    }\n",
       "\n",
       "    .dataframe thead th {\n",
       "        text-align: right;\n",
       "    }\n",
       "</style>\n",
       "<table border=\"1\" class=\"dataframe\">\n",
       "  <thead>\n",
       "    <tr style=\"text-align: right;\">\n",
       "      <th></th>\n",
       "      <th>id</th>\n",
       "      <th>season</th>\n",
       "      <th>city</th>\n",
       "      <th>date</th>\n",
       "      <th>match_type</th>\n",
       "      <th>player_of_match</th>\n",
       "      <th>venue</th>\n",
       "      <th>team1</th>\n",
       "      <th>team2</th>\n",
       "      <th>toss_winner</th>\n",
       "      <th>toss_decision</th>\n",
       "      <th>winner</th>\n",
       "      <th>result</th>\n",
       "      <th>result_margin</th>\n",
       "      <th>target_runs</th>\n",
       "      <th>target_overs</th>\n",
       "      <th>super_over</th>\n",
       "      <th>method</th>\n",
       "      <th>umpire1</th>\n",
       "      <th>umpire2</th>\n",
       "    </tr>\n",
       "  </thead>\n",
       "  <tbody>\n",
       "    <tr>\n",
       "      <th>0</th>\n",
       "      <td>335982</td>\n",
       "      <td>2007/08</td>\n",
       "      <td>Bangalore</td>\n",
       "      <td>2008-04-18</td>\n",
       "      <td>League</td>\n",
       "      <td>BB McCullum</td>\n",
       "      <td>M Chinnaswamy Stadium</td>\n",
       "      <td>Royal Challengers Bangalore</td>\n",
       "      <td>Kolkata Knight Riders</td>\n",
       "      <td>Royal Challengers Bangalore</td>\n",
       "      <td>field</td>\n",
       "      <td>Kolkata Knight Riders</td>\n",
       "      <td>runs</td>\n",
       "      <td>140.0</td>\n",
       "      <td>223.0</td>\n",
       "      <td>20.0</td>\n",
       "      <td>N</td>\n",
       "      <td>NaN</td>\n",
       "      <td>Asad Rauf</td>\n",
       "      <td>RE Koertzen</td>\n",
       "    </tr>\n",
       "    <tr>\n",
       "      <th>1</th>\n",
       "      <td>335983</td>\n",
       "      <td>2007/08</td>\n",
       "      <td>Chandigarh</td>\n",
       "      <td>2008-04-19</td>\n",
       "      <td>League</td>\n",
       "      <td>MEK Hussey</td>\n",
       "      <td>Punjab Cricket Association Stadium, Mohali</td>\n",
       "      <td>Kings XI Punjab</td>\n",
       "      <td>Chennai Super Kings</td>\n",
       "      <td>Chennai Super Kings</td>\n",
       "      <td>bat</td>\n",
       "      <td>Chennai Super Kings</td>\n",
       "      <td>runs</td>\n",
       "      <td>33.0</td>\n",
       "      <td>241.0</td>\n",
       "      <td>20.0</td>\n",
       "      <td>N</td>\n",
       "      <td>NaN</td>\n",
       "      <td>MR Benson</td>\n",
       "      <td>SL Shastri</td>\n",
       "    </tr>\n",
       "    <tr>\n",
       "      <th>2</th>\n",
       "      <td>335984</td>\n",
       "      <td>2007/08</td>\n",
       "      <td>Delhi</td>\n",
       "      <td>2008-04-19</td>\n",
       "      <td>League</td>\n",
       "      <td>MF Maharoof</td>\n",
       "      <td>Feroz Shah Kotla</td>\n",
       "      <td>Delhi Daredevils</td>\n",
       "      <td>Rajasthan Royals</td>\n",
       "      <td>Rajasthan Royals</td>\n",
       "      <td>bat</td>\n",
       "      <td>Delhi Daredevils</td>\n",
       "      <td>wickets</td>\n",
       "      <td>9.0</td>\n",
       "      <td>130.0</td>\n",
       "      <td>20.0</td>\n",
       "      <td>N</td>\n",
       "      <td>NaN</td>\n",
       "      <td>Aleem Dar</td>\n",
       "      <td>GA Pratapkumar</td>\n",
       "    </tr>\n",
       "    <tr>\n",
       "      <th>3</th>\n",
       "      <td>335985</td>\n",
       "      <td>2007/08</td>\n",
       "      <td>Mumbai</td>\n",
       "      <td>2008-04-20</td>\n",
       "      <td>League</td>\n",
       "      <td>MV Boucher</td>\n",
       "      <td>Wankhede Stadium</td>\n",
       "      <td>Mumbai Indians</td>\n",
       "      <td>Royal Challengers Bangalore</td>\n",
       "      <td>Mumbai Indians</td>\n",
       "      <td>bat</td>\n",
       "      <td>Royal Challengers Bangalore</td>\n",
       "      <td>wickets</td>\n",
       "      <td>5.0</td>\n",
       "      <td>166.0</td>\n",
       "      <td>20.0</td>\n",
       "      <td>N</td>\n",
       "      <td>NaN</td>\n",
       "      <td>SJ Davis</td>\n",
       "      <td>DJ Harper</td>\n",
       "    </tr>\n",
       "    <tr>\n",
       "      <th>4</th>\n",
       "      <td>335986</td>\n",
       "      <td>2007/08</td>\n",
       "      <td>Kolkata</td>\n",
       "      <td>2008-04-20</td>\n",
       "      <td>League</td>\n",
       "      <td>DJ Hussey</td>\n",
       "      <td>Eden Gardens</td>\n",
       "      <td>Kolkata Knight Riders</td>\n",
       "      <td>Deccan Chargers</td>\n",
       "      <td>Deccan Chargers</td>\n",
       "      <td>bat</td>\n",
       "      <td>Kolkata Knight Riders</td>\n",
       "      <td>wickets</td>\n",
       "      <td>5.0</td>\n",
       "      <td>111.0</td>\n",
       "      <td>20.0</td>\n",
       "      <td>N</td>\n",
       "      <td>NaN</td>\n",
       "      <td>BF Bowden</td>\n",
       "      <td>K Hariharan</td>\n",
       "    </tr>\n",
       "  </tbody>\n",
       "</table>\n",
       "</div>"
      ],
      "text/plain": [
       "       id   season        city        date match_type player_of_match  \\\n",
       "0  335982  2007/08   Bangalore  2008-04-18     League     BB McCullum   \n",
       "1  335983  2007/08  Chandigarh  2008-04-19     League      MEK Hussey   \n",
       "2  335984  2007/08       Delhi  2008-04-19     League     MF Maharoof   \n",
       "3  335985  2007/08      Mumbai  2008-04-20     League      MV Boucher   \n",
       "4  335986  2007/08     Kolkata  2008-04-20     League       DJ Hussey   \n",
       "\n",
       "                                        venue                        team1  \\\n",
       "0                       M Chinnaswamy Stadium  Royal Challengers Bangalore   \n",
       "1  Punjab Cricket Association Stadium, Mohali              Kings XI Punjab   \n",
       "2                            Feroz Shah Kotla             Delhi Daredevils   \n",
       "3                            Wankhede Stadium               Mumbai Indians   \n",
       "4                                Eden Gardens        Kolkata Knight Riders   \n",
       "\n",
       "                         team2                  toss_winner toss_decision  \\\n",
       "0        Kolkata Knight Riders  Royal Challengers Bangalore         field   \n",
       "1          Chennai Super Kings          Chennai Super Kings           bat   \n",
       "2             Rajasthan Royals             Rajasthan Royals           bat   \n",
       "3  Royal Challengers Bangalore               Mumbai Indians           bat   \n",
       "4              Deccan Chargers              Deccan Chargers           bat   \n",
       "\n",
       "                        winner   result  result_margin  target_runs  \\\n",
       "0        Kolkata Knight Riders     runs          140.0        223.0   \n",
       "1          Chennai Super Kings     runs           33.0        241.0   \n",
       "2             Delhi Daredevils  wickets            9.0        130.0   \n",
       "3  Royal Challengers Bangalore  wickets            5.0        166.0   \n",
       "4        Kolkata Knight Riders  wickets            5.0        111.0   \n",
       "\n",
       "   target_overs super_over method    umpire1         umpire2  \n",
       "0          20.0          N    NaN  Asad Rauf     RE Koertzen  \n",
       "1          20.0          N    NaN  MR Benson      SL Shastri  \n",
       "2          20.0          N    NaN  Aleem Dar  GA Pratapkumar  \n",
       "3          20.0          N    NaN   SJ Davis       DJ Harper  \n",
       "4          20.0          N    NaN  BF Bowden     K Hariharan  "
      ]
     },
     "execution_count": 34,
     "metadata": {},
     "output_type": "execute_result"
    }
   ],
   "source": [
    "df3 = pd.read_csv(\"matches.csv\")\n",
    "df3.head()"
   ]
  },
  {
   "cell_type": "code",
   "execution_count": 35,
   "id": "856ee690-556b-4a22-be4c-1c3d58d9ce06",
   "metadata": {},
   "outputs": [
    {
     "name": "stdout",
     "output_type": "stream",
     "text": [
      "\n",
      " Most Successful Team: Mumbai Indians\n",
      "\n",
      " Number of Wins by Each Team:\n",
      "winner\n",
      "Mumbai Indians                 144\n",
      "Chennai Super Kings            138\n",
      "Kolkata Knight Riders          131\n",
      "Royal Challengers Bangalore    116\n",
      "Rajasthan Royals               112\n",
      "Kings XI Punjab                 88\n",
      "Sunrisers Hyderabad             88\n",
      "Delhi Daredevils                67\n",
      "Delhi Capitals                  48\n",
      "Deccan Chargers                 29\n",
      "Gujarat Titans                  28\n",
      "Lucknow Super Giants            24\n",
      "Punjab Kings                    24\n",
      "Gujarat Lions                   13\n",
      "Pune Warriors                   12\n",
      "Rising Pune Supergiant          10\n",
      "Royal Challengers Bengaluru      7\n",
      "Kochi Tuskers Kerala             6\n",
      "Rising Pune Supergiants          5\n",
      "Name: count, dtype: int64\n"
     ]
    }
   ],
   "source": [
    "#  2. Most successful team (based on number of wins)\n",
    "most_successful = df3['winner'].value_counts().idxmax()\n",
    "wins_by_team = df3['winner'].value_counts()\n",
    "\n",
    "print(\"\\n Most Successful Team:\", most_successful)\n",
    "print(\"\\n Number of Wins by Each Team:\")\n",
    "print(wins_by_team)"
   ]
  },
  {
   "cell_type": "code",
   "execution_count": 36,
   "id": "7ac5d2b9-8f79-4bec-b7bf-34338d2fefb6",
   "metadata": {},
   "outputs": [
    {
     "name": "stdout",
     "output_type": "stream",
     "text": [
      "\n",
      " Total Matches Played Each Season:\n",
      "season\n",
      "2007/08    58\n",
      "2009       57\n",
      "2009/10    60\n",
      "2011       73\n",
      "2012       74\n",
      "2013       76\n",
      "2014       60\n",
      "2015       59\n",
      "2016       60\n",
      "2017       59\n",
      "2018       60\n",
      "2019       60\n",
      "2020/21    60\n",
      "2021       60\n",
      "2022       74\n",
      "2023       74\n",
      "2024       71\n",
      "Name: count, dtype: int64\n"
     ]
    }
   ],
   "source": [
    "# 3. Total matches played each season\n",
    "matches_per_season = df3['season'].value_counts().sort_index()\n",
    "print(\"\\n Total Matches Played Each Season:\")\n",
    "print(matches_per_season)"
   ]
  },
  {
   "cell_type": "code",
   "execution_count": 37,
   "id": "7ff6b25c-294b-4127-b7dc-f8292136c277",
   "metadata": {},
   "outputs": [
    {
     "name": "stdout",
     "output_type": "stream",
     "text": [
      "\n",
      " Top 5 Players with Most 'Player of the Match' Awards:\n",
      "player_of_match\n",
      "AB de Villiers    25\n",
      "CH Gayle          22\n",
      "RG Sharma         19\n",
      "DA Warner         18\n",
      "V Kohli           18\n",
      "Name: count, dtype: int64\n"
     ]
    }
   ],
   "source": [
    "# 4. Top 5 players with most 'Player of the Match' awards\n",
    "top_players = df3['player_of_match'].value_counts().head(5)\n",
    "print(\"\\n Top 5 Players with Most 'Player of the Match' Awards:\")\n",
    "print(top_players)"
   ]
  },
  {
   "cell_type": "code",
   "execution_count": 39,
   "id": "f1343274-a859-4c77-bb40-fed2b7d32eb3",
   "metadata": {},
   "outputs": [
    {
     "name": "stdout",
     "output_type": "stream",
     "text": [
      "\n",
      " Merged DataFrame sample (deliveries + matches):\n",
      "   match_id   season           batting_team                 bowling_team  \\\n",
      "0    335982  2007/08  Kolkata Knight Riders  Royal Challengers Bangalore   \n",
      "1    335982  2007/08  Kolkata Knight Riders  Royal Challengers Bangalore   \n",
      "2    335982  2007/08  Kolkata Knight Riders  Royal Challengers Bangalore   \n",
      "3    335982  2007/08  Kolkata Knight Riders  Royal Challengers Bangalore   \n",
      "4    335982  2007/08  Kolkata Knight Riders  Royal Challengers Bangalore   \n",
      "\n",
      "   total_runs  \n",
      "0           1  \n",
      "1           0  \n",
      "2           1  \n",
      "3           0  \n",
      "4           0  \n"
     ]
    }
   ],
   "source": [
    "# # 5. Merge matches.csv and deliveries.csv on match_id\n",
    "deliveries = pd.read_csv(\"deliveries.csv\")\n",
    "merged_df = pd.merge(deliveries, df3, left_on='match_id', right_on='id')\n",
    "\n",
    "print(\"\\n Merged DataFrame sample (deliveries + matches):\")\n",
    "print(merged_df[['match_id', 'season', 'batting_team', 'bowling_team', 'total_runs']].head())"
   ]
  },
  {
   "cell_type": "code",
   "execution_count": null,
   "id": "036650fa-60f8-43de-a50c-6e1975ee332a",
   "metadata": {},
   "outputs": [],
   "source": []
  },
  {
   "cell_type": "markdown",
   "id": "18268193-b87d-4221-8507-e87809ae39da",
   "metadata": {},
   "source": [
    "#"
   ]
  },
  {
   "cell_type": "markdown",
   "id": "2b238fdd-f346-441d-a4ee-82ff87a4f87f",
   "metadata": {},
   "source": [
    "# PART 4 tudents Performance"
   ]
  },
  {
   "cell_type": "code",
   "execution_count": 20,
   "id": "271c6c42-7da5-436b-9a35-ff0faa343021",
   "metadata": {},
   "outputs": [],
   "source": [
    "df4 = pd.read_csv(\"StudentsPerformance.csv\")"
   ]
  },
  {
   "cell_type": "code",
   "execution_count": 21,
   "id": "a37b2347-2373-45d1-b467-f902379d026c",
   "metadata": {},
   "outputs": [
    {
     "name": "stdout",
     "output_type": "stream",
     "text": [
      " Average Math Score: 66.09\n",
      " Average Reading Score: 69.17\n",
      " Average Writing Score: 68.05\n"
     ]
    }
   ],
   "source": [
    "# 1. Display average marks in math, reading, and writing\n",
    "avg_math = df4['math score'].mean()\n",
    "avg_reading = df4['reading score'].mean()\n",
    "avg_writing = df4['writing score'].mean()\n",
    "\n",
    "print(\" Average Math Score:\", round(avg_math, 2))\n",
    "print(\" Average Reading Score:\", round(avg_reading, 2))\n",
    "print(\" Average Writing Score:\", round(avg_writing, 2))"
   ]
  },
  {
   "cell_type": "code",
   "execution_count": 22,
   "id": "b015b8d1-29f3-4d16-8f71-2ec49fe6bcef",
   "metadata": {},
   "outputs": [
    {
     "name": "stdout",
     "output_type": "stream",
     "text": [
      "\n",
      " Average Writing Score by Gender:\n",
      "gender\n",
      "female    72.467181\n",
      "male      63.311203\n",
      "Name: writing score, dtype: float64\n"
     ]
    }
   ],
   "source": [
    "# 2. Who performed better in writing – males or females?\n",
    "writing_avg_by_gender = df4.groupby('gender')['writing score'].mean()\n",
    "print(\"\\n Average Writing Score by Gender:\")\n",
    "print(writing_avg_by_gender)"
   ]
  },
  {
   "cell_type": "code",
   "execution_count": 23,
   "id": "e7488aa2-d150-4fd6-8058-340634cbcbd7",
   "metadata": {},
   "outputs": [
    {
     "name": "stdout",
     "output_type": "stream",
     "text": [
      "\n",
      " Sample rows with total and percentage:\n",
      "   gender  math score  reading score  writing score  total_score  percentage\n",
      "0  female          72             72             74          218   72.666667\n",
      "1  female          69             90             88          247   82.333333\n",
      "2  female          90             95             93          278   92.666667\n",
      "3    male          47             57             44          148   49.333333\n",
      "4    male          76             78             75          229   76.333333\n"
     ]
    }
   ],
   "source": [
    "# 3. Add a new column for total score and percentage\n",
    "df4['total_score'] = df4['math score'] + df4['reading score'] + df4['writing score']\n",
    "df4['percentage'] = df4['total_score'] / 300 * 100\n",
    "\n",
    "print(\"\\n Sample rows with total and percentage:\")\n",
    "print(df4[['gender', 'math score', 'reading score', 'writing score', 'total_score', 'percentage']].head())\n"
   ]
  },
  {
   "cell_type": "code",
   "execution_count": 24,
   "id": "8f3bd8ff-f222-4195-98fc-fde203cc1207",
   "metadata": {},
   "outputs": [
    {
     "data": {
      "image/png": "[encoded data removed]",
      "text/plain": [
       "<Figure size 1000x600 with 1 Axes>"
      ]
     },
     "metadata": {},
     "output_type": "display_data"
    }
   ],
   "source": [
    "# 4. Plot bar chart: average scores grouped by parental level of education\n",
    "import matplotlib.pyplot as plt\n",
    "grouped_scores = df4.groupby('parental level of education')[['math score', 'reading score', 'writing score']].mean()\n",
    "\n",
    "grouped_scores.plot(kind='bar', figsize=(10, 6))\n",
    "plt.title(\"Average Scores by Parental Level of Education\")\n",
    "plt.ylabel(\"Average Score\")\n",
    "plt.xticks(rotation=45)\n",
    "plt.tight_layout()\n",
    "plt.show()"
   ]
  },
  {
   "cell_type": "code",
   "execution_count": 25,
   "id": "2e9042bc-c5a9-47df-9ed6-cf0b2898f6ef",
   "metadata": {},
   "outputs": [
    {
     "name": "stdout",
     "output_type": "stream",
     "text": [
      "\n",
      " Students who scored above 90 in all subjects:\n",
      "     gender  math score  reading score  writing score\n",
      "114  female          99            100            100\n",
      "149    male         100            100             93\n",
      "165  female          96            100            100\n",
      "179  female          97            100            100\n",
      "451  female         100             92             97\n",
      "458  female         100            100            100\n",
      "546  female          92            100             97\n",
      "566  female          92            100            100\n",
      "571    male          91             96             92\n",
      "594  female          92            100             99\n",
      "625    male         100             97             99\n",
      "685  female          94             99            100\n",
      "712  female          98            100             99\n",
      "717  female          96             96             99\n",
      "855  female          97             97             96\n",
      "864    male          97             93             91\n",
      "886  female          93            100             95\n",
      "903  female          93            100            100\n",
      "916    male         100            100            100\n",
      "919    male          91             96             91\n",
      "957  female          92            100            100\n",
      "962  female         100            100            100\n",
      "979  female          91             95             94\n"
     ]
    }
   ],
   "source": [
    "# 5. Find students who scored above 90% in all subjects (i.e. >90 in math, reading, writing)\n",
    "high_achievers = df4[\n",
    "    (df4['math score'] > 90) &\n",
    "    (df4['reading score'] > 90) &\n",
    "    (df4['writing score'] > 90)\n",
    "]\n",
    "\n",
    "print(\"\\n Students who scored above 90 in all subjects:\")\n",
    "print(high_achievers[['gender', 'math score', 'reading score', 'writing score']])"
   ]
  },
  {
   "cell_type": "code",
   "execution_count": null,
   "id": "81afa083-2180-4aad-bc3c-0c5045e13d85",
   "metadata": {},
   "outputs": [],
   "source": []
  },
  {
   "cell_type": "markdown",
   "id": "caaff75b-e0fe-42ce-aa20-8eab7760cdf1",
   "metadata": {},
   "source": [
    " # PART 5: Flight Price Prediction Dataset"
   ]
  },
  {
   "cell_type": "code",
   "execution_count": 26,
   "id": "2e08281d-e907-419e-8557-3dd2133dc3be",
   "metadata": {},
   "outputs": [],
   "source": [
    "df5 = pd.read_csv(\"Clean_Dataset.csv\")"
   ]
  },
  {
   "cell_type": "code",
   "execution_count": 27,
   "id": "93570877-dd28-4539-9053-d8a3aafb8a91",
   "metadata": {},
   "outputs": [
    {
     "name": "stdout",
     "output_type": "stream",
     "text": [
      "Basic Info:\n",
      "<class 'pandas.core.frame.DataFrame'>\n",
      "RangeIndex: 300153 entries, 0 to 300152\n",
      "Data columns (total 12 columns):\n",
      " #   Column            Non-Null Count   Dtype  \n",
      "---  ------            --------------   -----  \n",
      " 0   Unnamed: 0        300153 non-null  int64  \n",
      " 1   airline           300153 non-null  object \n",
      " 2   flight            300153 non-null  object \n",
      " 3   source_city       300153 non-null  object \n",
      " 4   departure_time    300153 non-null  object \n",
      " 5   stops             300153 non-null  object \n",
      " 6   arrival_time      300153 non-null  object \n",
      " 7   destination_city  300153 non-null  object \n",
      " 8   class             300153 non-null  object \n",
      " 9   duration          300153 non-null  float64\n",
      " 10  days_left         300153 non-null  int64  \n",
      " 11  price             300153 non-null  int64  \n",
      "dtypes: float64(1), int64(3), object(8)\n",
      "memory usage: 27.5+ MB\n"
     ]
    }
   ],
   "source": [
    "# 1. Display basic info using .info() and .describe()\n",
    "print(\"Basic Info:\")\n",
    "df5.info()\n",
    "\n"
   ]
  },
  {
   "cell_type": "code",
   "execution_count": 41,
   "id": "1118d9b6-f89f-4053-9dbc-3ccc5b13a453",
   "metadata": {},
   "outputs": [
    {
     "name": "stdout",
     "output_type": "stream",
     "text": [
      "\n",
      " Summary Statistics:\n",
      "           Unnamed: 0  airline  flight source_city departure_time   stops  \\\n",
      "count   300153.000000   300153  300153      300153         300153  300153   \n",
      "unique            NaN        6    1561           6              6       3   \n",
      "top               NaN  Vistara  UK-706       Delhi        Morning     one   \n",
      "freq              NaN   127859    3235       61343          71146  250863   \n",
      "mean    150076.000000      NaN     NaN         NaN            NaN     NaN   \n",
      "min          0.000000      NaN     NaN         NaN            NaN     NaN   \n",
      "25%      75038.000000      NaN     NaN         NaN            NaN     NaN   \n",
      "50%     150076.000000      NaN     NaN         NaN            NaN     NaN   \n",
      "75%     225114.000000      NaN     NaN         NaN            NaN     NaN   \n",
      "max     300152.000000      NaN     NaN         NaN            NaN     NaN   \n",
      "std      86646.852011      NaN     NaN         NaN            NaN     NaN   \n",
      "\n",
      "       arrival_time destination_city    class       duration      days_left  \\\n",
      "count        300153           300153   300153  300153.000000  300153.000000   \n",
      "unique            6                6        2            NaN            NaN   \n",
      "top           Night           Mumbai  Economy            NaN            NaN   \n",
      "freq          91538            59097   206666            NaN            NaN   \n",
      "mean            NaN              NaN      NaN      12.221021      26.004751   \n",
      "min             NaN              NaN      NaN       0.830000       1.000000   \n",
      "25%             NaN              NaN      NaN       6.830000      15.000000   \n",
      "50%             NaN              NaN      NaN      11.250000      26.000000   \n",
      "75%             NaN              NaN      NaN      16.170000      38.000000   \n",
      "max             NaN              NaN      NaN      49.830000      49.000000   \n",
      "std             NaN              NaN      NaN       7.191997      13.561004   \n",
      "\n",
      "                price                    travel_date    Journey_Day  \\\n",
      "count   300153.000000                         300153  300153.000000   \n",
      "unique            NaN                            NaN            NaN   \n",
      "top               NaN                            NaN            NaN   \n",
      "freq              NaN                            NaN            NaN   \n",
      "mean     20889.660523  2025-07-24 10:59:01.998622464      14.064087   \n",
      "min       1105.000000     2025-06-29 10:52:11.519966       1.000000   \n",
      "25%       4783.000000  2025-07-13 10:52:11.519965952       7.000000   \n",
      "50%       7425.000000  2025-07-24 10:52:11.519965952      13.000000   \n",
      "75%      42521.000000  2025-08-05 10:52:11.519965952      21.000000   \n",
      "max     123071.000000     2025-08-16 10:52:11.519966      31.000000   \n",
      "std      22697.767366                            NaN       8.705520   \n",
      "\n",
      "        Journey_Month  \n",
      "count   300153.000000  \n",
      "unique            NaN  \n",
      "top               NaN  \n",
      "freq              NaN  \n",
      "mean         7.320027  \n",
      "min          6.000000  \n",
      "25%          7.000000  \n",
      "50%          7.000000  \n",
      "75%          8.000000  \n",
      "max          8.000000  \n",
      "std          0.507225  \n"
     ]
    }
   ],
   "source": [
    "\n",
    "print(\"\\n Summary Statistics:\")\n",
    "print(df5.describe(include='all'))"
   ]
  },
  {
   "cell_type": "code",
   "execution_count": 29,
   "id": "577ea0b5-1086-4e8e-b65c-3d68a93a34f3",
   "metadata": {},
   "outputs": [
    {
     "name": "stdout",
     "output_type": "stream",
     "text": [
      "   days_left                travel_date\n",
      "0          1 2025-06-29 10:52:11.519966\n",
      "1          1 2025-06-29 10:52:11.519966\n",
      "2          1 2025-06-29 10:52:11.519966\n",
      "3          1 2025-06-29 10:52:11.519966\n",
      "4          1 2025-06-29 10:52:11.519966\n"
     ]
    }
   ],
   "source": [
    "# 2. Convert date/time columns to appropriate datetime format\n",
    "\n",
    "from datetime import datetime, timedelta\n",
    "df5['travel_date'] = pd.to_datetime(\"today\") + pd.to_timedelta(df5['days_left'], unit='D')\n",
    "print(df5[['days_left', 'travel_date']].head())"
   ]
  },
  {
   "cell_type": "code",
   "execution_count": 30,
   "id": "a4d8b4ea-764b-4a2e-bef1-3157b0f756d8",
   "metadata": {},
   "outputs": [
    {
     "name": "stdout",
     "output_type": "stream",
     "text": [
      "\n",
      " Sample travel date columns:\n",
      "   days_left                travel_date  Journey_Day  Journey_Month\n",
      "0          1 2025-06-29 10:52:11.519966           29              6\n",
      "1          1 2025-06-29 10:52:11.519966           29              6\n",
      "2          1 2025-06-29 10:52:11.519966           29              6\n",
      "3          1 2025-06-29 10:52:11.519966           29              6\n",
      "4          1 2025-06-29 10:52:11.519966           29              6\n"
     ]
    }
   ],
   "source": [
    "# 3. Create Journey Day and Month columns from travel_date\n",
    "df5['Journey_Day'] = df5['travel_date'].dt.day\n",
    "df5['Journey_Month'] = df5['travel_date'].dt.month\n",
    "\n",
    "print(\"\\n Sample travel date columns:\")\n",
    "print(df5[['days_left', 'travel_date', 'Journey_Day', 'Journey_Month']].head())"
   ]
  },
  {
   "cell_type": "code",
   "execution_count": 31,
   "id": "1617d372-e4e8-468f-93f6-6b19ed3ec665",
   "metadata": {},
   "outputs": [
    {
     "name": "stdout",
     "output_type": "stream",
     "text": [
      "\n",
      " Most Frequent Airline: Vistara\n",
      "Most Frequent Source City: Delhi\n"
     ]
    }
   ],
   "source": [
    "# 4. Find the most frequent airline and source city\n",
    "most_common_airline = df5['airline'].mode()[0]\n",
    "most_common_source = df5['source_city'].mode()[0]\n",
    "\n",
    "print(\"\\n Most Frequent Airline:\", most_common_airline)\n",
    "print(\"Most Frequent Source City:\", most_common_source)"
   ]
  },
  {
   "cell_type": "code",
   "execution_count": 40,
   "id": "e46d4128-0792-4ee3-b9e0-47b1d60db695",
   "metadata": {},
   "outputs": [
    {
     "name": "stdout",
     "output_type": "stream",
     "text": [
      "\n",
      " Removed 0 rows (duplicates or missing values)\n"
     ]
    }
   ],
   "source": [
    "# 5. Remove duplicates and handle missing values\n",
    "initial_shape = df5.shape\n",
    "df5.drop_duplicates(inplace=True)\n",
    "df5.dropna(inplace=True)\n",
    "final_shape = df5.shape\n",
    "\n",
    "print(f\"\\n Removed {initial_shape[0] - final_shape[0]} rows (duplicates or missing values)\")"
   ]
  },
  {
   "cell_type": "code",
   "execution_count": null,
   "id": "345a12d6-688d-4088-b73c-76f50a1183e1",
   "metadata": {},
   "outputs": [],
   "source": []
  }
 ],
 "metadata": {
  "kernelspec": {
   "display_name": "Python 3 (ipykernel)",
   "language": "python",
   "name": "python3"
  },
  "language_info": {
   "codemirror_mode": {
    "name": "ipython",
    "version": 3
   },
   "file_extension": ".py",
   "mimetype": "text/x-python",
   "name": "python",
   "nbconvert_exporter": "python",
   "pygments_lexer": "ipython3",
   "version": "3.12.7"
  }
 },
 "nbformat": 4,
 "nbformat_minor": 5
}
